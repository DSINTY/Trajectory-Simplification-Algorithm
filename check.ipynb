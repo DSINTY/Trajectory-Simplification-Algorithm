{
 "cells": [
  {
   "cell_type": "code",
   "execution_count": 1,
   "id": "644e3b4f",
   "metadata": {},
   "outputs": [],
   "source": [
    "import Fred as fred\n",
    "from tqdm import tqdm\n",
    "\n",
    "FILE_PATH  = \"input/sim/\"\n",
    "\n",
    "OUTPUT_PATH = \"output/\"\n",
    "NUM_FILES = 100\n",
    "# ERROR_BOUNDS = (0.001,0.01,0.1,1,2,5,10,20,40,60,80,100,1000,10000)\n",
    "ERROR_BOUNDS = (10000,)\n",
    "\n",
    "SIM_ALGS = ('sim',)\n"
   ]
  },
  {
   "cell_type": "code",
   "execution_count": 6,
   "id": "f34ca16c",
   "metadata": {},
   "outputs": [
    {
     "name": "stdout",
     "output_type": "stream",
     "text": [
      "40 Distance:  9822.131843500256\n",
      "41 Distance:  9822.131843500256\n",
      "42 Distance:  9822.131843500256\n",
      "43 Distance:  9822.131843500256\n",
      "44 Distance:  9822.131843500256\n",
      "45 Distance:  9822.131843500256\n",
      "46 Distance:  9822.131843500256\n",
      "47 Distance:  14281.835264250443\n",
      "48 Distance:  14281.835264250443\n",
      "49 Distance:  14254.374313903809\n"
     ]
    }
   ],
   "source": [
    "i=2\n",
    "with open(FILE_PATH+str(i)+\".txt\", \"r\") as f:\n",
    "            # read the points as a linestring, with each line in the file containing a point\n",
    "            points = f.readlines()\n",
    "            points = [tuple(map(float, point.split())) for point in points]\n",
    "\n",
    "for error_bound in ERROR_BOUNDS:\n",
    "            for sim_alg in SIM_ALGS:\n",
    "                with open(OUTPUT_PATH+sim_alg+'/'+str(error_bound)+'/'+str(i)+\".txt\", \"r\") as f:\n",
    "                    segs = f.readlines()\n",
    "                    points_sim = [(None,None)]\n",
    "                    \n",
    "                    \n",
    "                    for seg in segs:\n",
    "                        if len(seg.split())==4:\n",
    "                            \n",
    "                            start_x, start_y, end_x, end_y = map(float, seg.split())\n",
    "                            if (start_x, start_y) != points_sim[-1]:\n",
    "                                points_sim.append((start_x, start_y))\n",
    "                            if (end_x, end_y) != points_sim[-1]:\n",
    "                                points_sim.append((end_x, end_y))\n",
    "                        elif len(seg.split())==2:\n",
    "                            start_x, start_y = map(float, seg.split())\n",
    "                            if (start_x, start_y) != points_sim[-1]:\n",
    "                                points_sim.append((start_x, start_y))\n",
    "                        else:\n",
    "                            raise ValueError(\"Invalid segment format: {}\".format(seg))\n",
    "                    points_sim=points_sim[1:]\n",
    "                    # traj = fred.Curve(points)\n",
    "                    # traj_sim = fred.Curve(points_sim)\n",
    "                    # dist= fred.continuous_frechet(traj,traj_sim).value\n",
    "                    # print(\"Total Distance: \", dist)\n",
    "                    \n",
    "j=0\n",
    "\n",
    "points_map = []\n",
    "for i, pt in enumerate(points_sim):\n",
    "    # print(points_sim[i])\n",
    "    while points[j]!= points_sim[i]:\n",
    "        # print(\"i: \", points[i], \"j: \", points_sim[j])\n",
    "        j+=1\n",
    "    points_map.append(j)\n",
    "    # print(points_map)\n",
    "\n",
    "for i in range(40,50):\n",
    "    traj = fred.Curve(points[:points_map[i]+1])\n",
    "    traj_sim = fred.Curve(points_sim[:i+1])\n",
    "    dist= fred.continuous_frechet(traj,traj_sim).value\n",
    "    print(i,\"Distance: \", dist)\n",
    "\n",
    "\n",
    "    \n",
    "        \n",
    "            \n",
    "        "
   ]
  },
  {
   "cell_type": "code",
   "execution_count": 10,
   "id": "1d8809bd",
   "metadata": {},
   "outputs": [
    {
     "data": {
      "text/plain": [
       "998"
      ]
     },
     "execution_count": 10,
     "metadata": {},
     "output_type": "execute_result"
    }
   ],
   "source": [
    "points_map[47]"
   ]
  }
 ],
 "metadata": {
  "kernelspec": {
   "display_name": ".venv",
   "language": "python",
   "name": "python3"
  },
  "language_info": {
   "codemirror_mode": {
    "name": "ipython",
    "version": 3
   },
   "file_extension": ".py",
   "mimetype": "text/x-python",
   "name": "python",
   "nbconvert_exporter": "python",
   "pygments_lexer": "ipython3",
   "version": "3.12.3"
  }
 },
 "nbformat": 4,
 "nbformat_minor": 5
}
