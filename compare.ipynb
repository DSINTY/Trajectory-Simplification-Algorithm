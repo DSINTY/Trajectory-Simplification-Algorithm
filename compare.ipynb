{
 "cells": [
  {
   "cell_type": "code",
   "execution_count": 2,
   "metadata": {},
   "outputs": [
    {
     "name": "stdout",
     "output_type": "stream",
     "text": [
      "Collecting fred-frechet\n",
      "  Downloading Fred-Frechet-1.14.5.tar.gz (159 kB)\n",
      "  Installing build dependencies ... \u001b[?25ldone\n",
      "\u001b[?25h  Getting requirements to build wheel ... \u001b[?25ldone\n",
      "\u001b[?25h  Preparing metadata (pyproject.toml) ... \u001b[?25ldone\n",
      "\u001b[?25hCollecting cvxopt (from fred-frechet)\n",
      "  Downloading cvxopt-1.3.2-cp312-cp312-manylinux_2_17_x86_64.manylinux2014_x86_64.whl.metadata (1.3 kB)\n",
      "Collecting matplotlib (from fred-frechet)\n",
      "  Downloading matplotlib-3.10.1-cp312-cp312-manylinux_2_17_x86_64.manylinux2014_x86_64.whl.metadata (11 kB)\n",
      "Collecting scipy (from fred-frechet)\n",
      "  Downloading scipy-1.15.2-cp312-cp312-manylinux_2_17_x86_64.manylinux2014_x86_64.whl.metadata (61 kB)\n",
      "Requirement already satisfied: psutil in ./.venv/lib/python3.12/site-packages (from fred-frechet) (7.0.0)\n",
      "Collecting cmake (from fred-frechet)\n",
      "  Downloading cmake-3.31.6-py3-none-manylinux_2_17_x86_64.manylinux2014_x86_64.whl.metadata (6.3 kB)\n",
      "Collecting contourpy>=1.0.1 (from matplotlib->fred-frechet)\n",
      "  Downloading contourpy-1.3.1-cp312-cp312-manylinux_2_17_x86_64.manylinux2014_x86_64.whl.metadata (5.4 kB)\n",
      "Collecting cycler>=0.10 (from matplotlib->fred-frechet)\n",
      "  Downloading cycler-0.12.1-py3-none-any.whl.metadata (3.8 kB)\n",
      "Collecting fonttools>=4.22.0 (from matplotlib->fred-frechet)\n",
      "  Downloading fonttools-4.56.0-cp312-cp312-manylinux_2_5_x86_64.manylinux1_x86_64.manylinux_2_17_x86_64.manylinux2014_x86_64.whl.metadata (101 kB)\n",
      "Collecting kiwisolver>=1.3.1 (from matplotlib->fred-frechet)\n",
      "  Downloading kiwisolver-1.4.8-cp312-cp312-manylinux_2_17_x86_64.manylinux2014_x86_64.whl.metadata (6.2 kB)\n",
      "Collecting numpy>=1.23 (from matplotlib->fred-frechet)\n",
      "  Downloading numpy-2.2.3-cp312-cp312-manylinux_2_17_x86_64.manylinux2014_x86_64.whl.metadata (62 kB)\n",
      "Requirement already satisfied: packaging>=20.0 in ./.venv/lib/python3.12/site-packages (from matplotlib->fred-frechet) (24.2)\n",
      "Collecting pillow>=8 (from matplotlib->fred-frechet)\n",
      "  Downloading pillow-11.1.0-cp312-cp312-manylinux_2_28_x86_64.whl.metadata (9.1 kB)\n",
      "Collecting pyparsing>=2.3.1 (from matplotlib->fred-frechet)\n",
      "  Downloading pyparsing-3.2.1-py3-none-any.whl.metadata (5.0 kB)\n",
      "Requirement already satisfied: python-dateutil>=2.7 in ./.venv/lib/python3.12/site-packages (from matplotlib->fred-frechet) (2.9.0.post0)\n",
      "Requirement already satisfied: six>=1.5 in ./.venv/lib/python3.12/site-packages (from python-dateutil>=2.7->matplotlib->fred-frechet) (1.17.0)\n",
      "Downloading cmake-3.31.6-py3-none-manylinux_2_17_x86_64.manylinux2014_x86_64.whl (27.8 MB)\n",
      "\u001b[2K   \u001b[90m━━━━━━━━━━━━━━━━━━━━━━━━━━━━━━━━━━━━━━━━\u001b[0m \u001b[32m27.8/27.8 MB\u001b[0m \u001b[31m9.2 MB/s\u001b[0m eta \u001b[36m0:00:00\u001b[0ma \u001b[36m0:00:01\u001b[0mm\n",
      "\u001b[?25hDownloading cvxopt-1.3.2-cp312-cp312-manylinux_2_17_x86_64.manylinux2014_x86_64.whl (17.9 MB)\n",
      "\u001b[2K   \u001b[90m━━━━━━━━━━━━━━━━━━━━━━━━━━━━━━━━━━━━━━━━\u001b[0m \u001b[32m17.9/17.9 MB\u001b[0m \u001b[31m5.8 MB/s\u001b[0m eta \u001b[36m0:00:00\u001b[0m00:01\u001b[0m00:01\u001b[0m\n",
      "\u001b[?25hDownloading matplotlib-3.10.1-cp312-cp312-manylinux_2_17_x86_64.manylinux2014_x86_64.whl (8.6 MB)\n",
      "\u001b[2K   \u001b[90m━━━━━━━━━━━━━━━━━━━━━━━━━━━━━━━━━━━━━━━━\u001b[0m \u001b[32m8.6/8.6 MB\u001b[0m \u001b[31m10.2 MB/s\u001b[0m eta \u001b[36m0:00:00\u001b[0m00:01\u001b[0m00:01\u001b[0m\n",
      "\u001b[?25hDownloading scipy-1.15.2-cp312-cp312-manylinux_2_17_x86_64.manylinux2014_x86_64.whl (37.3 MB)\n",
      "\u001b[2K   \u001b[90m━━━━━━━━━━━━━━━━━━━━━━━━━━━━━━━━━━━━━━━━\u001b[0m \u001b[32m37.3/37.3 MB\u001b[0m \u001b[31m9.7 MB/s\u001b[0m eta \u001b[36m0:00:00\u001b[0m:00:01\u001b[0m0:01\u001b[0m\n",
      "\u001b[?25hDownloading contourpy-1.3.1-cp312-cp312-manylinux_2_17_x86_64.manylinux2014_x86_64.whl (323 kB)\n",
      "Downloading cycler-0.12.1-py3-none-any.whl (8.3 kB)\n",
      "Downloading fonttools-4.56.0-cp312-cp312-manylinux_2_5_x86_64.manylinux1_x86_64.manylinux_2_17_x86_64.manylinux2014_x86_64.whl (4.9 MB)\n",
      "\u001b[2K   \u001b[90m━━━━━━━━━━━━━━━━━━━━━━━━━━━━━━━━━━━━━━━━\u001b[0m \u001b[32m4.9/4.9 MB\u001b[0m \u001b[31m10.3 MB/s\u001b[0m eta \u001b[36m0:00:00\u001b[0ma \u001b[36m0:00:01\u001b[0m\n",
      "\u001b[?25hDownloading kiwisolver-1.4.8-cp312-cp312-manylinux_2_17_x86_64.manylinux2014_x86_64.whl (1.5 MB)\n",
      "\u001b[2K   \u001b[90m━━━━━━━━━━━━━━━━━━━━━━━━━━━━━━━━━━━━━━━━\u001b[0m \u001b[32m1.5/1.5 MB\u001b[0m \u001b[31m9.7 MB/s\u001b[0m eta \u001b[36m0:00:00\u001b[0m\n",
      "\u001b[?25hDownloading numpy-2.2.3-cp312-cp312-manylinux_2_17_x86_64.manylinux2014_x86_64.whl (16.1 MB)\n",
      "\u001b[2K   \u001b[90m━━━━━━━━━━━━━━━━━━━━━━━━━━━━━━━━━━━━━━━━\u001b[0m \u001b[32m16.1/16.1 MB\u001b[0m \u001b[31m8.7 MB/s\u001b[0m eta \u001b[36m0:00:00\u001b[0m00:01\u001b[0m00:01\u001b[0mm\n",
      "\u001b[?25hDownloading pillow-11.1.0-cp312-cp312-manylinux_2_28_x86_64.whl (4.5 MB)\n",
      "\u001b[2K   \u001b[90m━━━━━━━━━━━━━━━━━━━━━━━━━━━━━━━━━━━━━━━━\u001b[0m \u001b[32m4.5/4.5 MB\u001b[0m \u001b[31m10.3 MB/s\u001b[0m eta \u001b[36m0:00:00\u001b[0m00:01\u001b[0m00:01\u001b[0m\n",
      "\u001b[?25hDownloading pyparsing-3.2.1-py3-none-any.whl (107 kB)\n",
      "Building wheels for collected packages: fred-frechet\n",
      "  Building wheel for fred-frechet (pyproject.toml) ... \u001b[?25ldone\n",
      "\u001b[?25h  Created wheel for fred-frechet: filename=fred_frechet-1.14.5-cp312-cp312-linux_x86_64.whl size=744231 sha256=85c1b7815f43a9b334a2edf026e289315de99f02868bc26e8c47ea1941f820c9\n",
      "  Stored in directory: /home/daniel/.cache/pip/wheels/90/ee/0d/47d1f8d7ede10e730d33ae9d7dd6980b4c543998222daf22ec\n",
      "Successfully built fred-frechet\n",
      "Installing collected packages: pyparsing, pillow, numpy, kiwisolver, fonttools, cycler, cvxopt, cmake, scipy, contourpy, matplotlib, fred-frechet\n",
      "Successfully installed cmake-3.31.6 contourpy-1.3.1 cvxopt-1.3.2 cycler-0.12.1 fonttools-4.56.0 fred-frechet-1.14.5 kiwisolver-1.4.8 matplotlib-3.10.1 numpy-2.2.3 pillow-11.1.0 pyparsing-3.2.1 scipy-1.15.2\n"
     ]
    }
   ],
   "source": [
    "!pip install fred-frechet"
   ]
  },
  {
   "cell_type": "code",
   "execution_count": 6,
   "metadata": {},
   "outputs": [
    {
     "name": "stdout",
     "output_type": "stream",
     "text": [
      "Collecting tqdm\n",
      "  Downloading tqdm-4.67.1-py3-none-any.whl.metadata (57 kB)\n",
      "Downloading tqdm-4.67.1-py3-none-any.whl (78 kB)\n",
      "Installing collected packages: tqdm\n",
      "Successfully installed tqdm-4.67.1\n"
     ]
    }
   ],
   "source": [
    "!pip install tqdm"
   ]
  },
  {
   "cell_type": "code",
   "execution_count": 3,
   "metadata": {},
   "outputs": [],
   "source": [
    "import Fred as fred\n",
    "from tqdm import tqdm\n",
    "\n",
    "FILE_PATH  = \"input/fbqs/\"\n",
    "\n",
    "OUTPUT_PATH = \"output/\"\n",
    "NUM_FILES = 100\n",
    "ERROR_BOUNDS = (0.001,0.01,0.1,1,2,5,10,20,40,60,80,100,1000,10000)\n",
    "\n",
    "SIM_ALGS = ('sim','fbqs')"
   ]
  },
  {
   "cell_type": "code",
   "execution_count": 3,
   "metadata": {},
   "outputs": [
    {
     "name": "stdout",
     "output_type": "stream",
     "text": [
      "1.5700924586837752e-16\n"
     ]
    }
   ],
   "source": [
    "traj1=[[1,1],[2,2],[3,3],[4,4]]\n",
    "traj2 = [[1,1],[4,4]]\n",
    "traj1= fred.Curve(traj1)\n",
    "traj2 = fred.Curve(traj2)\n",
    "\n",
    "\n",
    "dist= fred.continuous_frechet(traj1,traj2).value\n",
    "# print(fred.continuous_frechet(traj1,traj2))\n",
    "print(dist)"
   ]
  },
  {
   "cell_type": "code",
   "execution_count": null,
   "metadata": {},
   "outputs": [
    {
     "name": "stderr",
     "output_type": "stream",
     "text": [
      "  0%|          | 0/100 [00:00<?, ?it/s]"
     ]
    },
    {
     "name": "stderr",
     "output_type": "stream",
     "text": [
      "  7%|▋         | 7/100 [08:30<1:24:02, 54.22s/it] WARNING: constructed empty curve\n",
      "WARNING: constructed empty curve\n",
      "WARNING: constructed empty curve\n",
      "WARNING: constructed empty curve\n",
      "WARNING: constructed empty curve\n",
      "WARNING: constructed empty curve\n",
      "WARNING: constructed empty curve\n",
      "WARNING: constructed empty curve\n",
      "WARNING: constructed empty curve\n",
      "WARNING: constructed empty curve\n",
      " 15%|█▌        | 15/100 [31:01<2:38:33, 111.92s/it]"
     ]
    }
   ],
   "source": [
    "\n",
    "with open(\"results.csv\", \"w\") as output_f:\n",
    "    outputline=\"ID,original_length\"\n",
    "    for error_bound in ERROR_BOUNDS:\n",
    "        for sim_alg in SIM_ALGS:\n",
    "            outputline+=',rate_'+sim_alg+'_'+str(error_bound)\n",
    "            outputline+=',dist_'+sim_alg+'_'+str(error_bound)\n",
    "    output_f.write(outputline)\n",
    "    output_f.write('\\n')\n",
    "    for i in tqdm(range(1,NUM_FILES+1)):\n",
    "        outputline=str(i)\n",
    "        with open(FILE_PATH+str(i)+\".txt\", \"r\") as f:\n",
    "            # read the points as a linestring, with each line in the file containing a point\n",
    "            points = f.readlines()\n",
    "            # convert the points to a list of tuples\n",
    "            points = [tuple(map(float, point.split())) for point in points]\n",
    "            # create a linestring from the points\n",
    "            traj = fred.Curve(points)\n",
    "        outputline+=','+str(traj.complexity)\n",
    "        \n",
    "\n",
    "        for error_bound in ERROR_BOUNDS:\n",
    "            for sim_alg in SIM_ALGS:\n",
    "                with open(OUTPUT_PATH+sim_alg+'/'+str(error_bound)+'/'+str(i)+\".txt\", \"r\") as f:\n",
    "                    segs = f.readlines()\n",
    "                    points_sim = [(None,None)]\n",
    "                    \n",
    "                    for seg in segs:\n",
    "                        start_x, start_y, end_x, end_y = map(float, seg.split())\n",
    "                        if (start_x, start_y) != points_sim[-1]:\n",
    "                            points_sim.append((start_x, start_y))\n",
    "                        if (end_x, end_y) != points_sim[-1]:\n",
    "                            points_sim.append((end_x, end_y))\n",
    "                    points_sim=points_sim[1:]\n",
    "                    comp_ratio = -1\n",
    "                    dist = -1\n",
    "                    # print(distance(Point(points[0]),Point(points_sim[0])))\n",
    "                    # if (len(points_sim) > 1):\n",
    "                    sim_traj = fred.Curve(points_sim)\n",
    "                    # print(sim_line)\n",
    "                    # print(line)\n",
    "                    \n",
    "                    comp_ratio = sim_traj.complexity/traj.complexity\n",
    "                    if sim_traj.complexity>1:\n",
    "                        dist= fred.continuous_frechet(traj,sim_traj).value\n",
    "                    else:\n",
    "                        dist = -1\n",
    "                        \n",
    "                    # print(dist)\n",
    "                        \n",
    "                    outputline += ','+str(comp_ratio)+','+str(dist)\n",
    "        output_f.write(outputline)\n",
    "        output_f.write('\\n')\n",
    "                "
   ]
  },
  {
   "cell_type": "code",
   "execution_count": null,
   "metadata": {},
   "outputs": [
    {
     "name": "stdout",
     "output_type": "stream",
     "text": [
      "ID,original_length,rate_sim_1,dist_sim_1,rate_fbqs_1,dist_fbqs_1,rate_sim_2,dist_sim_2,rate_fbqs_2,dist_fbqs_2,rate_sim_5,dist_sim_5,rate_fbqs_5,dist_fbqs_5,rate_sim_10,dist_sim_10,rate_fbqs_10,dist_fbqs_10,rate_sim_20,dist_sim_20,rate_fbqs_20,dist_fbqs_20,rate_sim_40,dist_sim_40,rate_fbqs_40,dist_fbqs_40,rate_sim_60,dist_sim_60,rate_fbqs_60,dist_fbqs_60,rate_sim_80,dist_sim_80,rate_fbqs_80,dist_fbqs_80,rate_sim_100,dist_sim_100,rate_fbqs_100,dist_fbqs_100,rate_sim_1000,dist_sim_1000,rate_fbqs_1000,dist_fbqs_1000,rate_sim_10000,dist_sim_10000,rate_fbqs_10000,dist_fbqs_10000\n",
      "1,588,0.4523809523809524,2996.6648127543394,0.24319727891156462,3382.915357331579,0.4302721088435374,2996.6648127543394,0.24829931972789115,3012.972821043304,0.4098639455782313,2996.6648127543394,0.23809523809523808,2278.893754807318,0.3758503401360544,2996.6648127543394,0.23299319727891157,2280.359982342952,0.32142857142857145,2996.6648127543394,0.21258503401360543,2280.359982342952,0.3163265306122449,3022.2919777374314,0.1836734693877551,6940.778011903627,0.30272108843537415,3022.2919777374314,0.15136054421768708,6940.778011903627,0.3282312925170068,2996.6648127543394,0.1326530612244898,3373.8560453009686,0.282312925170068,3021.272511912931,0.12244897959183673,3382.915357331579,0.21768707482993196,3625.180927791027,0.10034013605442177,6928.982997159203,0.282312925170068,13817.745128785915,0.02891156462585034,13144.353444436734\n",
      "2,1674,0.8697729988052568,362.7871090118108,0.44683393070489846,1587.9825203318705,0.8643966547192353,363.65569275966686,0.44683393070489846,1587.9825203318705,0.8494623655913979,362.88124867070616"
     ]
    }
   ],
   "source": [
    "\n",
    "\n",
    "outputline=\"ID,original_length\"\n",
    "for error_bound in ERROR_BOUNDS:\n",
    "    for sim_alg in SIM_ALGS:\n",
    "        outputline+=',rate_'+sim_alg+'_'+str(error_bound)\n",
    "        outputline+=',dist_'+sim_alg+'_'+str(error_bound)\n",
    "print(outputline)\n",
    "for i in range(1,NUM_FILES+1):\n",
    "    outputline=str(i)\n",
    "    with open(FILE_PATH+str(i)+\".txt\", \"r\") as f:\n",
    "        # read the points as a linestring, with each line in the file containing a point\n",
    "        points = f.readlines()\n",
    "        # convert the points to a list of tuples\n",
    "        points = [tuple(map(float, point.split())) for point in points]\n",
    "        # create a linestring from the points\n",
    "        traj = fred.Curve(points)\n",
    "    outputline+=','+str(traj.complexity)\n",
    "    print(outputline,end='')\n",
    "    outputline=''\n",
    "    \n",
    "\n",
    "    for error_bound in ERROR_BOUNDS:\n",
    "        for sim_alg in SIM_ALGS:\n",
    "            with open(OUTPUT_PATH+sim_alg+'/'+str(error_bound)+'/'+str(i)+\".txt\", \"r\") as f:\n",
    "                segs = f.readlines()\n",
    "                points_sim = [(None,None)]\n",
    "                \n",
    "                for seg in segs:\n",
    "                    start_x, start_y, end_x, end_y = map(float, seg.split())\n",
    "                    if (start_x, start_y) != points_sim[-1]:\n",
    "                        points_sim.append((start_x, start_y))\n",
    "                    if (end_x, end_y) != points_sim[-1]:\n",
    "                        points_sim.append((end_x, end_y))\n",
    "                points_sim=points_sim[1:]\n",
    "                comp_ratio = -1\n",
    "                dist = -1\n",
    "                # print(distance(Point(points[0]),Point(points_sim[0])))\n",
    "                # if (len(points_sim) > 1):\n",
    "                sim_traj = fred.Curve(points_sim)\n",
    "                # print(sim_line)\n",
    "                # print(line)\n",
    "                \n",
    "                comp_ratio = sim_traj.complexity/traj.complexity\n",
    "                dist= fred.continuous_frechet(traj,sim_traj).value\n",
    "                    \n",
    "                # print(dist)\n",
    "                    \n",
    "                print( ','+str(comp_ratio)+','+str(dist), end='')\n",
    "    print()\n",
    "                "
   ]
  }
 ],
 "metadata": {
  "kernelspec": {
   "display_name": ".venv",
   "language": "python",
   "name": "python3"
  },
  "language_info": {
   "codemirror_mode": {
    "name": "ipython",
    "version": 3
   },
   "file_extension": ".py",
   "mimetype": "text/x-python",
   "name": "python",
   "nbconvert_exporter": "python",
   "pygments_lexer": "ipython3",
   "version": "3.12.3"
  }
 },
 "nbformat": 4,
 "nbformat_minor": 2
}
