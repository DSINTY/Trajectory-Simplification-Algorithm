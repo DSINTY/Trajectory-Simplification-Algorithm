{
 "cells": [
  {
   "cell_type": "code",
   "execution_count": 1,
   "metadata": {},
   "outputs": [
    {
     "name": "stdout",
     "output_type": "stream",
     "text": [
      "^C\n"
     ]
    }
   ],
   "source": [
    "!pip install fred-frechet"
   ]
  },
  {
   "cell_type": "code",
   "execution_count": null,
   "metadata": {},
   "outputs": [
    {
     "name": "stdout",
     "output_type": "stream",
     "text": [
      "Collecting tqdm\n",
      "  Downloading tqdm-4.67.1-py3-none-any.whl.metadata (57 kB)\n",
      "Downloading tqdm-4.67.1-py3-none-any.whl (78 kB)\n",
      "Installing collected packages: tqdm\n",
      "Successfully installed tqdm-4.67.1\n"
     ]
    }
   ],
   "source": [
    "!pip install tqdm"
   ]
  },
  {
   "cell_type": "code",
   "execution_count": null,
   "metadata": {},
   "outputs": [],
   "source": [
    "import Fred as fred\n",
    "from tqdm import tqdm\n",
    "\n",
    "FILE_PATH  = \"input/sim/\"\n",
    "\n",
    "OUTPUT_PATH = \"output/\"\n",
    "NUM_FILES = 100\n",
    "# ERROR_BOUNDS = (0.001,0.01,0.1,1,2,5,10,20,40,60,80,100,1000,10000)\n",
    "ERROR_BOUNDS = (1,2,5,10,20,40,60,80,100,1000,10000)\n",
    "\n",
    "SIM_ALGS = ('sim',)"
   ]
  },
  {
   "cell_type": "code",
   "execution_count": 5,
   "metadata": {},
   "outputs": [
    {
     "name": "stdout",
     "output_type": "stream",
     "text": [
      "1.5700924586837752e-16\n"
     ]
    }
   ],
   "source": [
    "traj1=[[1,1],[2,2],[3,3],[4,4]]\n",
    "traj2 = [[1,1],[4,4]]\n",
    "traj1= fred.Curve(traj1)\n",
    "traj2 = fred.Curve(traj2)\n",
    "\n",
    "\n",
    "dist= fred.continuous_frechet(traj1,traj2).value\n",
    "# print(fred.continuous_frechet(traj1,traj2))\n",
    "print(dist)"
   ]
  },
  {
   "cell_type": "code",
   "execution_count": 8,
   "metadata": {},
   "outputs": [
    {
     "name": "stderr",
     "output_type": "stream",
     "text": [
      "  0%|          | 0/100 [00:00<?, ?it/s]"
     ]
    },
    {
     "name": "stderr",
     "output_type": "stream",
     "text": [
      "  0%|          | 0/100 [00:06<?, ?it/s]\n"
     ]
    },
    {
     "ename": "KeyboardInterrupt",
     "evalue": "",
     "output_type": "error",
     "traceback": [
      "\u001b[31m---------------------------------------------------------------------------\u001b[39m",
      "\u001b[31mKeyboardInterrupt\u001b[39m                         Traceback (most recent call last)",
      "\u001b[36mCell\u001b[39m\u001b[36m \u001b[39m\u001b[32mIn[8]\u001b[39m\u001b[32m, line 52\u001b[39m\n\u001b[32m     50\u001b[39m comp_ratio = sim_traj.complexity/traj.complexity\n\u001b[32m     51\u001b[39m \u001b[38;5;28;01mif\u001b[39;00m sim_traj.complexity>\u001b[32m1\u001b[39m:\n\u001b[32m---> \u001b[39m\u001b[32m52\u001b[39m     dist= \u001b[43mfred\u001b[49m\u001b[43m.\u001b[49m\u001b[43mcontinuous_frechet\u001b[49m\u001b[43m(\u001b[49m\u001b[43mtraj\u001b[49m\u001b[43m,\u001b[49m\u001b[43msim_traj\u001b[49m\u001b[43m)\u001b[49m.value\n\u001b[32m     53\u001b[39m \u001b[38;5;28;01melse\u001b[39;00m:\n\u001b[32m     54\u001b[39m     dist = -\u001b[32m1\u001b[39m\n",
      "\u001b[31mKeyboardInterrupt\u001b[39m: "
     ]
    }
   ],
   "source": [
    "\n",
    "with open(\"results_new_with_fbqs.csv\", \"w\") as output_f:\n",
    "    outputline=\"ID,original_length\"\n",
    "    for error_bound in ERROR_BOUNDS:\n",
    "        for sim_alg in SIM_ALGS:\n",
    "            outputline+=',rate_'+sim_alg+'_'+str(error_bound)\n",
    "            outputline+=',dist_'+sim_alg+'_'+str(error_bound)\n",
    "    output_f.write(outputline)\n",
    "    output_f.write('\\n')\n",
    "    for i in tqdm(range(1,NUM_FILES+1)):\n",
    "        outputline=str(i)\n",
    "        with open(FILE_PATH+str(i)+\".txt\", \"r\") as f:\n",
    "            # read the points as a linestring, with each line in the file containing a point\n",
    "            points = f.readlines()\n",
    "            # convert the points to a list of tuples\n",
    "            points = [tuple(map(float, point.split())) for point in points]\n",
    "            # create a linestring from the points\n",
    "            traj = fred.Curve(points)\n",
    "        outputline+=','+str(traj.complexity)\n",
    "        \n",
    "\n",
    "        for error_bound in ERROR_BOUNDS:\n",
    "            for sim_alg in SIM_ALGS:\n",
    "                with open(OUTPUT_PATH+sim_alg+'/'+str(error_bound)+'/'+str(i)+\".txt\", \"r\") as f:\n",
    "                    segs = f.readlines()\n",
    "                    points_sim = [(None,None)]\n",
    "                    \n",
    "                    for seg in segs:\n",
    "                        if len(seg.split())==4:\n",
    "                            \n",
    "                            start_x, start_y, end_x, end_y = map(float, seg.split())\n",
    "                            if (start_x, start_y) != points_sim[-1]:\n",
    "                                points_sim.append((start_x, start_y))\n",
    "                            if (end_x, end_y) != points_sim[-1]:\n",
    "                                points_sim.append((end_x, end_y))\n",
    "                        elif len(seg.split())==2:\n",
    "                            start_x, start_y = map(float, seg.split())\n",
    "                            if (start_x, start_y) != points_sim[-1]:\n",
    "                                points_sim.append((start_x, start_y))\n",
    "                        else:\n",
    "                            raise ValueError(\"Invalid segment format: {}\".format(seg))\n",
    "                    points_sim=points_sim[1:]\n",
    "                    comp_ratio = -1\n",
    "                    dist = -1\n",
    "                    # print(distance(Point(points[0]),Point(points_sim[0])))\n",
    "                    # if (len(points_sim) > 1):\n",
    "                    sim_traj = fred.Curve(points_sim)\n",
    "                    # print(sim_line)\n",
    "                    # print(line)\n",
    "                    \n",
    "                    comp_ratio = sim_traj.complexity/traj.complexity\n",
    "                    if sim_traj.complexity>1:\n",
    "                        dist= fred.continuous_frechet(traj,sim_traj).value\n",
    "                    else:\n",
    "                        dist = -1\n",
    "                        \n",
    "                    # print(dist)\n",
    "                        \n",
    "                    outputline += ','+str(comp_ratio)+','+str(dist)\n",
    "        output_f.write(outputline)\n",
    "        output_f.write('\\n')\n",
    "                "
   ]
  },
  {
   "cell_type": "code",
   "execution_count": 2,
   "metadata": {},
   "outputs": [
    {
     "name": "stdout",
     "output_type": "stream",
     "text": [
      "ID,original_length,rate_sim_1,dist_sim_1,rate_sim_2,dist_sim_2,rate_sim_5,dist_sim_5,rate_sim_10,dist_sim_10,rate_sim_20,dist_sim_20,rate_sim_40,dist_sim_40,rate_sim_60,dist_sim_60,rate_sim_80,dist_sim_80,rate_sim_100,dist_sim_100,rate_sim_1000,dist_sim_1000,rate_sim_10000,dist_sim_10000\n",
      "1,588,0.9302721088435374,0.0,0.9268707482993197,1.2212453270900956e-16,0.8622448979591837,0.7026817694463636,0.7891156462585034,1.1062101941792508,0.6870748299319728,1.1063753007982502,0.5714285714285714,5.416456827090972,0.44047619047619047,8.938169002231797,0.3707482993197279,8.938169002231797,0.3129251700680272,9.370786686338295,0.21768707482993196,137.82909418550983,0.1054421768707483,8166.23737821966\n",
      "2,1674,0.9086021505376344,0.0,0.9086021505376344,0.0,0.9080047789725209,0.004402012571563418,0.9056152927120669,6.401007733162187,0.9050179211469535,6.401007733162187,0.9044205495818399,6.427672069994394,0.9032258064516129,6.409168621018226,0.9026284348864994,6.409168621018226,0.8984468339307049,7.540640631968538,0.8142174432497014,946.2705013581324,0.14934289127837516,6052.154926740948\n",
      "3,1371,0.6141502552881108,0.0,0.6024799416484318,1.1062499999989086,0.5215171407731582,4.07604582577409,0.5047410649161196,7.099592133217423,0.4959883296863603,7.099592133217423,0.49452954048140046,9.281957029768439,0.49161196207148067,7.422853014811487,0.4908825674690007,7.422853014811487,0.4894237782640408,7.422853014811487,0.45951859956236324,779.3910991733507,0.11524434719183078,5694.779761673213\n",
      "4,672,0.6220238095238095,0.0,0.5744047619047619,1.1062499999984539,0.38095238095238093,3.2612145296789627,0.2961309523809524,4.899023973438288,0.25,8.619088671181004,0.21428571428571427,13.476602108784704,0.20238095238095238,44.17733025812099,0.19791666666666666,44.143942355176335,0.19940476190476192,44.143942355176335,0.17113095238095238,314.79402765094153,0.07589285714285714,6663.557783181595\n",
      "5,798,0.6904761904761905,0.0,0.6854636591478697,0.17977167308663344,0.5401002506265664,3.0258625420962697,0.48370927318295737,3.324880204713153,0.44611528822055135,11.296339596132325,0.42606516290726815,18.17593832644588,0.40977443609022557,18.16235486777709,0.40601503759398494,18.16235486777709,0.40601503759398494,18.16235486777709,0.39473684210526316,86.7509337551619,0.14035087719298245,4180.693723992279\n",
      "6,792,0.7689393939393939,0.0,0.7689393939393939,0.0,0.76010101010101,2.1578949399668828,0.7424242424242424,7.49797043089246,0.6830808080808081,16.115307606545386,0.6098484848484849,16.150025667597554,0.577020202020202,16.150025667597554,0.5618686868686869,16.150025667597554,0.5618686868686869,16.150025667597554,0.5290404040404041,77.95098516792481,0.20707070707070707,5930.844260784075\n",
      "7,454,0.7224669603524229,0.0,0.7224669603524229,0.0,0.7224669603524229,0.0,0.7224669603524229,0.0,0.7224669603524229,0.0,0.7224669603524229,0.0,0.7224669603524229,0.0,0.7224669603524229,0.0,0.7224669603524229,0.0,0.7136563876651982,867.8419720990801,0.31718061674008813,9133.887359039149\n",
      "8,5,1.0,0.0,1.0,0.0,0.8,0.3243603074482889,0.6,2.2922478051026065,0.4,6.511515879401699,0.4,6.511515879401699,0.4,6.511515879401699,0.4,6.511515879401699,0.4,6.511515879401699,0.4,6.511515879401699,0.4,6.511515879401699\n",
      "9,643,0.8009331259720062,0.0,0.8009331259720062,0.0,0.8009331259720062,0.0,0.8009331259720062,0.0,0.8009331259720062,0.0,0.8009331259720062,0.0,0.8009331259720062,0.0,0.8009331259720062,0.0,0.8009331259720062,0.0,0.7916018662519441,116.23832847274821,0.27060653188180406,7447.011243961824\n",
      "10,5617,0.9314580737048246,0.0,0.9307459497952644,1.23234755733457e-16,0.9278974541570233,3.4729672062907975,0.9246928965640021,7.550561116708133,0.9149011928075486,18.448605352151013,0.8623820544774791,30.7554269885131,0.8144917215595514,46.60805249975574,0.7657112337546733,79.49237597582746,0.732419440982731,97.35211512042329,0.26580024924336837,744.7998519278337,0.019939469467687376,7801.561101678977\n",
      "11,703,0.8733997155049786,0.0,0.8733997155049786,0.0,0.8733997155049786,0.0,0.871977240398293,3.1977216081666846,0.871977240398293,3.1977216081666846,0.8677098150782361,6.393507449906922,0.8648648648648649,39.27953156543498,0.8648648648648649,39.27953156543498,0.8634423897581792,39.27953156543498,0.7624466571834992,874.5229146532627,0.1166429587482219,5507.6558386991965\n",
      "12,814,0.7542997542997543,0.0,0.7542997542997543,0.0,0.7542997542997543,0.0,0.7542997542997543,0.0,0.7493857493857494,8.904381708105223,0.7457002457002457,9.579578209949613,0.742014742014742,20.868248894576766,0.7371007371007371,26.01238192921435,0.7358722358722358,26.01238192921435,0.6793611793611793,702.2289925689317,0.17444717444717445,5610.074907467191\n",
      "13,368,0.9211956521739131,0.0,0.9211956521739131,0.0,0.9130434782608695,1.0148834139582852,0.9130434782608695,1.0148834139582852,0.907608695652174,3.327316601298257,0.907608695652174,3.327316601298257,0.9021739130434783,3.3255364970778842,0.8913043478260869,7.250301390118121,0.8913043478260869,7.250301390118121,0.8532608695652174,113.85790793822966,0.2826086956521739,5330.556083678899\n",
      "14,661,0.7791225416036308,0.0,0.7791225416036308,0.0,0.7791225416036308,0.0,0.7791225416036308,0.0,0.7760968229954615,1.3226413238063852,0.7670196671709532,7.261973412477714,0.7594553706505295,47.420374312769994,0.7518910741301059,47.53876420898078,0.7488653555219364,47.53876420898078,0.6384266263237519,409.87072994549123,0.07261724659606657,4168.408161046724\n",
      "15,1131,0.7966401414677277,0.0,0.7966401414677277,0.0,0.7931034482758621,1.5895118311023164,0.7895667550839964,6.019027195022829,0.7869142351900973,5.9989504461613805,0.7851458885941645,6.002569255787815,0.7824933687002652,6.019360837251998,0.7816091954022989,6.019360837251998,0.7798408488063661,61.698379233168765,0.6834659593280283,444.1151732299563,0.15915119363395225,4220.91658194933\n",
      "16,4463,0.95899619090298,0.0,0.95899619090298,0.0,0.95899619090298,0.0,0.9585480618418104,5.332373937531864,0.9486892224960789,12.728668563260356,0.9000672193591754,39.35137809136484,0.839793860631862,59.46384193441348,0.7884830831279408,79.82910752735236,0.7441183060721488,98.75873380517343,0.2529688550302487,956.7788639761161,0.033385615057136456,8336.41137318002\n",
      "17,1979,0.6978271854471956,0.0,0.6937847397675594,0.2413557565051108,0.6690247599797877,1.7372923208435314,0.6346639717028802,3.6161580136587257,0.5811015664477008,7.161282708151838,0.5123799898938858,17.89247494804689,0.4876200101061142,18.01666046621508,0.45982819605861547,74.21794759909413,0.4401212733703891,74.22395563661908,0.24810510358767054,882.2106597055181,0.06720565942395149,3380.99328158585\n",
      "18,1615,0.5325077399380805,0.0,0.5139318885448917,0.9361693172579542,0.36160990712074303,3.3110233323152176,0.31021671826625385,3.3053354734576534,0.2656346749226006,4.025245481113878,0.22476780185758513,12.56344931404307,0.2130030959752322,12.56344931404307,0.2068111455108359,13.695889441596936,0.2068111455108359,13.695889441596936,0.18575851393188855,305.74388800843997,0.051393188854489166,5501.711527406587\n",
      "19,808,0.6460396039603961,0.0,0.6287128712871287,1.2212453270900956e-16,0.4665841584158416,2.6847646617651675,0.41336633663366334,5.902578440964188,0.36757425742574257,10.893796393553837,0.35767326732673266,10.91606522420258,0.3564356435643564,10.91606522420258,0.34405940594059403,10.895078239994087,0.3415841584158416,10.895078239994087,0.31064356435643564,199.21485129137372,0.15222772277227722,3752.972066972414\n",
      "20,1520,0.7460526315789474,0.0,0.7342105263157894,1.1100000000001273,0.5967105263157895,2.043989305707429,0.5223684210526316,5.037778635412231,0.4585526315789474,7.277687491137211,0.3730263157894737,27.00926987986997,0.34342105263157896,28.13701651273626,0.3118421052631579,75.7853481730624,0.29210526315789476,75.7853481730624,0.22236842105263158,987.3626183220244,0.0861842105263158,9043.15500221237\n",
      "21,1491,0.6317907444668008,0.0,0.6143527833668678,1.1085937500021714,0.4983232729711603,2.990497680051576,0.43326626425217973,3.318615796187796,0.3903420523138833,10.192036104421414,0.36016096579476864,10.184098202917049,0.3427230046948357,26.578158755160434,0.33668678739101277,23.767409852062137,0.3299798792756539,40.86517173753676,0.2655935613682093,927.7945372810027,0.085177733065057,6594.43862055462\n",
      "22,2,1.0,0.0,1.0,0.0,1.0,0.0,1.0,0.0,1.0,0.0,1.0,0.0,1.0,0.0,1.0,0.0,1.0,0.0,1.0,0.0,1.0,0.0\n",
      "23,865,0.7676300578034682,0.0,0.7445086705202312,1.128437499999869,0.638150289017341,4.5398742200768085,0.5919075144508671,4.544921875,0.5421965317919075,8.456977925906628,0.5052023121387283,13.273369327650517,0.4936416184971098,41.73461626865384,0.484393063583815,22.95148385522645,0.4774566473988439,53.10870513077955,0.4184971098265896,158.20925405074075,0.11560693641618497,4043.045074750853\n",
      "24,2030,0.9157635467980295,0.0,0.9157635467980295,0.0,0.9157635467980295,0.0,0.9142857142857143,3.129760638011323,0.9118226600985222,7.587376828789129,0.9083743842364532,16.563732911553743,0.9054187192118227,29.497044798484346,0.9049261083743843,29.497044798484346,0.9039408866995073,29.497044798484346,0.8231527093596059,991.6561654529112,0.16108374384236454,8614.271906225928\n",
      "25,2260,0.9,0.0,0.8991150442477877,1.0428473560016913,0.8991150442477877,1.0428473560016913,0.897787610619469,4.36021616489957,0.897787610619469,4.36021616489957,0.8973451327433628,4.36021616489957,0.8964601769911504,4.348722020439052,0.8946902654867257,54.696891558348824,0.893362831858407,67.20992786180057,0.7995575221238939,913.2801040600914,0.1415929203539823,7066.118963476414\n",
      "26,1544,0.625,0.0,0.625,0.0,0.625,0.0,0.6243523316062176,1.0234418594290648,0.6224093264248705,2.9777466754726465,0.6172279792746114,16.3817134485514,0.6152849740932642,16.3817134485514,0.6152849740932642,16.3817134485514,0.6152849740932642,16.3817134485514,0.5841968911917098,361.23303822368473,0.19818652849740934,7363.435006843705\n",
      "27,1974,0.7973657548125633,0.0,0.7973657548125633,0.0,0.7963525835866262,0.9605125739117553,0.7948328267477204,4.151156465372064,0.7882472137791287,13.860327404452974,0.7831813576494427,13.860327404452974,0.7811550151975684,20.90744650098206,0.7806484295845998,20.90744650098206,0.7801418439716312,20.942088543500105,0.6899696048632219,683.2695763582485,0.146403242147923,5613.134590160329\n",
      "28,6023,0.9374066080026565,0.0,0.9372405777851569,1.2212453270860566e-16,0.884775029055288,3.0154952342473402,0.7549393989706127,7.8614217316902355,0.5902374232110245,16.94593630338958,0.4776689357463058,38.44536535526622,0.4642204881288394,40.14794088382763,0.4594056118213515,72.08143467054654,0.4557529470363606,72.22950742739158,0.35181803088162045,731.0307371885795,0.04532624937738668,9252.308352527296\n",
      "29,1404,0.8881766381766382,0.0,0.8881766381766382,0.0,0.8881766381766382,0.0,0.8853276353276354,3.915299888561618,0.8817663817663818,10.349816982504354,0.8760683760683761,10.349816982504354,0.8710826210826211,15.62374501032657,0.8696581196581197,15.624301886509059,0.8668091168091168,21.4689801504214"
     ]
    },
    {
     "ename": "KeyboardInterrupt",
     "evalue": "",
     "output_type": "error",
     "traceback": [
      "\u001b[31m---------------------------------------------------------------------------\u001b[39m",
      "\u001b[31mKeyboardInterrupt\u001b[39m                         Traceback (most recent call last)",
      "\u001b[36mCell\u001b[39m\u001b[36m \u001b[39m\u001b[32mIn[2]\u001b[39m\u001b[32m, line 52\u001b[39m\n\u001b[32m     50\u001b[39m comp_ratio = sim_traj.complexity/traj.complexity\n\u001b[32m     51\u001b[39m \u001b[38;5;28;01mif\u001b[39;00m sim_traj.complexity>\u001b[32m1\u001b[39m:\n\u001b[32m---> \u001b[39m\u001b[32m52\u001b[39m         dist= \u001b[43mfred\u001b[49m\u001b[43m.\u001b[49m\u001b[43mcontinuous_frechet\u001b[49m\u001b[43m(\u001b[49m\u001b[43mtraj\u001b[49m\u001b[43m,\u001b[49m\u001b[43msim_traj\u001b[49m\u001b[43m)\u001b[49m.value\n\u001b[32m     53\u001b[39m \u001b[38;5;28;01melse\u001b[39;00m:\n\u001b[32m     54\u001b[39m     dist = -\u001b[32m1\u001b[39m\n",
      "\u001b[31mKeyboardInterrupt\u001b[39m: "
     ]
    }
   ],
   "source": [
    "\n",
    "\n",
    "outputline=\"ID,original_length\"\n",
    "for error_bound in ERROR_BOUNDS:\n",
    "    for sim_alg in SIM_ALGS:\n",
    "        outputline+=',rate_'+sim_alg+'_'+str(error_bound)\n",
    "        outputline+=',dist_'+sim_alg+'_'+str(error_bound)\n",
    "print(outputline)\n",
    "for i in range(1,NUM_FILES+1):\n",
    "    outputline=str(i)\n",
    "    with open(FILE_PATH+str(i)+\".txt\", \"r\") as f:\n",
    "        # read the points as a linestring, with each line in the file containing a point\n",
    "        points = f.readlines()\n",
    "        # convert the points to a list of tuples\n",
    "        points = [tuple(map(float, point.split())) for point in points]\n",
    "        # create a linestring from the points\n",
    "        traj = fred.Curve(points)\n",
    "    outputline+=','+str(traj.complexity)\n",
    "    print(outputline,end='')\n",
    "    outputline=''\n",
    "    \n",
    "\n",
    "    for error_bound in ERROR_BOUNDS:\n",
    "        for sim_alg in SIM_ALGS:\n",
    "            with open(OUTPUT_PATH+sim_alg+'/'+str(error_bound)+'/'+str(i)+\".txt\", \"r\") as f:\n",
    "                segs = f.readlines()\n",
    "                points_sim = [(None,None)]\n",
    "                \n",
    "                for seg in segs:\n",
    "                    if len(seg.split())==4:\n",
    "                            \n",
    "                        start_x, start_y, end_x, end_y = map(float, seg.split())\n",
    "                        if (start_x, start_y) != points_sim[-1]:\n",
    "                            points_sim.append((start_x, start_y))\n",
    "                        if (end_x, end_y) != points_sim[-1]:\n",
    "                            points_sim.append((end_x, end_y))\n",
    "                    elif len(seg.split())==2:\n",
    "                        start_x, start_y = map(float, seg.split())\n",
    "                        if (start_x, start_y) != points_sim[-1]:\n",
    "                            points_sim.append((start_x, start_y))\n",
    "                    else:\n",
    "                        raise ValueError(\"Invalid segment format: {}\".format(seg))\n",
    "                points_sim=points_sim[1:]\n",
    "                comp_ratio = -1\n",
    "                dist = -1\n",
    "                # print(distance(Point(points[0]),Point(points_sim[0])))\n",
    "                # if (len(points_sim) > 1):\n",
    "                sim_traj = fred.Curve(points_sim)\n",
    "                # print(sim_line)\n",
    "                # print(line)\n",
    "                \n",
    "                comp_ratio = sim_traj.complexity/traj.complexity\n",
    "                if sim_traj.complexity>1:\n",
    "                        dist= fred.continuous_frechet(traj,sim_traj).value\n",
    "                else:\n",
    "                    dist = -1\n",
    "                \n",
    "                \n",
    "                    \n",
    "                # print(dist)\n",
    "                    \n",
    "                print( ','+str(comp_ratio)+','+str(dist), end='')\n",
    "    print()\n",
    "                "
   ]
  },
  {
   "cell_type": "markdown",
   "metadata": {},
   "source": [
    "## Plot graph"
   ]
  },
  {
   "cell_type": "code",
   "execution_count": null,
   "metadata": {},
   "outputs": [
    {
     "name": "stdout",
     "output_type": "stream",
     "text": [
      "Collecting seaborn\n",
      "  Downloading seaborn-0.13.2-py3-none-any.whl.metadata (5.4 kB)\n",
      "Requirement already satisfied: numpy!=1.24.0,>=1.20 in ./.venv/lib/python3.12/site-packages (from seaborn) (2.2.3)\n",
      "Collecting pandas>=1.2 (from seaborn)\n",
      "  Downloading pandas-2.2.3-cp312-cp312-manylinux_2_17_x86_64.manylinux2014_x86_64.whl.metadata (89 kB)\n",
      "Requirement already satisfied: matplotlib!=3.6.1,>=3.4 in ./.venv/lib/python3.12/site-packages (from seaborn) (3.10.1)\n",
      "Requirement already satisfied: contourpy>=1.0.1 in ./.venv/lib/python3.12/site-packages (from matplotlib!=3.6.1,>=3.4->seaborn) (1.3.1)\n",
      "Requirement already satisfied: cycler>=0.10 in ./.venv/lib/python3.12/site-packages (from matplotlib!=3.6.1,>=3.4->seaborn) (0.12.1)\n",
      "Requirement already satisfied: fonttools>=4.22.0 in ./.venv/lib/python3.12/site-packages (from matplotlib!=3.6.1,>=3.4->seaborn) (4.56.0)\n",
      "Requirement already satisfied: kiwisolver>=1.3.1 in ./.venv/lib/python3.12/site-packages (from matplotlib!=3.6.1,>=3.4->seaborn) (1.4.8)\n",
      "Requirement already satisfied: packaging>=20.0 in ./.venv/lib/python3.12/site-packages (from matplotlib!=3.6.1,>=3.4->seaborn) (24.2)\n",
      "Requirement already satisfied: pillow>=8 in ./.venv/lib/python3.12/site-packages (from matplotlib!=3.6.1,>=3.4->seaborn) (11.1.0)\n",
      "Requirement already satisfied: pyparsing>=2.3.1 in ./.venv/lib/python3.12/site-packages (from matplotlib!=3.6.1,>=3.4->seaborn) (3.2.1)\n",
      "Requirement already satisfied: python-dateutil>=2.7 in ./.venv/lib/python3.12/site-packages (from matplotlib!=3.6.1,>=3.4->seaborn) (2.9.0.post0)\n",
      "Collecting pytz>=2020.1 (from pandas>=1.2->seaborn)\n",
      "  Downloading pytz-2025.2-py2.py3-none-any.whl.metadata (22 kB)\n",
      "Collecting tzdata>=2022.7 (from pandas>=1.2->seaborn)\n",
      "  Downloading tzdata-2025.2-py2.py3-none-any.whl.metadata (1.4 kB)\n",
      "Requirement already satisfied: six>=1.5 in ./.venv/lib/python3.12/site-packages (from python-dateutil>=2.7->matplotlib!=3.6.1,>=3.4->seaborn) (1.17.0)\n",
      "Downloading seaborn-0.13.2-py3-none-any.whl (294 kB)\n",
      "Downloading pandas-2.2.3-cp312-cp312-manylinux_2_17_x86_64.manylinux2014_x86_64.whl (12.7 MB)\n",
      "\u001b[2K   \u001b[90m━━━━━━━━━━━━━━━━━━━━━━━━━━━━━━━━━━━━━━━━\u001b[0m \u001b[32m12.7/12.7 MB\u001b[0m \u001b[31m20.3 MB/s\u001b[0m eta \u001b[36m0:00:00\u001b[0m00:01\u001b[0m0:01\u001b[0m\n",
      "\u001b[?25hDownloading pytz-2025.2-py2.py3-none-any.whl (509 kB)\n",
      "Downloading tzdata-2025.2-py2.py3-none-any.whl (347 kB)\n",
      "Installing collected packages: pytz, tzdata, pandas, seaborn\n",
      "Successfully installed pandas-2.2.3 pytz-2025.2 seaborn-0.13.2 tzdata-2025.2\n"
     ]
    }
   ],
   "source": [
    "!pip install seaborn"
   ]
  },
  {
   "cell_type": "code",
   "execution_count": null,
   "metadata": {},
   "outputs": [
    {
     "name": "stdout",
     "output_type": "stream",
     "text": [
      "Requirement already satisfied: pandas in ./.venv/lib/python3.12/site-packages (2.2.3)\n",
      "Requirement already satisfied: numpy>=1.26.0 in ./.venv/lib/python3.12/site-packages (from pandas) (2.2.3)\n",
      "Requirement already satisfied: python-dateutil>=2.8.2 in ./.venv/lib/python3.12/site-packages (from pandas) (2.9.0.post0)\n",
      "Requirement already satisfied: pytz>=2020.1 in ./.venv/lib/python3.12/site-packages (from pandas) (2025.2)\n",
      "Requirement already satisfied: tzdata>=2022.7 in ./.venv/lib/python3.12/site-packages (from pandas) (2025.2)\n",
      "Requirement already satisfied: six>=1.5 in ./.venv/lib/python3.12/site-packages (from python-dateutil>=2.8.2->pandas) (1.17.0)\n"
     ]
    }
   ],
   "source": [
    "!pip install pandas"
   ]
  }
 ],
 "metadata": {
  "kernelspec": {
   "display_name": ".venv",
   "language": "python",
   "name": "python3"
  },
  "language_info": {
   "codemirror_mode": {
    "name": "ipython",
    "version": 3
   },
   "file_extension": ".py",
   "mimetype": "text/x-python",
   "name": "python",
   "nbconvert_exporter": "python",
   "pygments_lexer": "ipython3",
   "version": "3.12.3"
  }
 },
 "nbformat": 4,
 "nbformat_minor": 2
}
